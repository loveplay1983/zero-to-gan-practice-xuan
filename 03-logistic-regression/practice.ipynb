{
 "cells": [
  {
   "cell_type": "markdown",
   "id": "89dc2ee6-071d-4bc3-95a1-a44ba831372a",
   "metadata": {},
   "source": [
    "# packages"
   ]
  },
  {
   "cell_type": "code",
   "execution_count": 1,
   "id": "c8503b00-5966-475e-abf8-e46d1a1e3287",
   "metadata": {},
   "outputs": [],
   "source": [
    "import torch\n",
    "import torchvision\n",
    "from torchvision.datasets import MNIST\n",
    "import torchvision.transforms as transforms\n",
    "from torch.utils.data import random_split, DataLoader\n",
    "import torch.nn as nn\n",
    "import torch.nn.functional as F\n",
    "\n",
    "import matplotlib.pyplot as plt\n",
    "%matplotlib inline"
   ]
  },
  {
   "cell_type": "code",
   "execution_count": 2,
   "id": "05710976-39fe-4184-ab28-833d5ae3505b",
   "metadata": {},
   "outputs": [],
   "source": [
    "dataset = MNIST(root=\"data/\", download=True)"
   ]
  },
  {
   "cell_type": "code",
   "execution_count": 3,
   "id": "3f32df1e-8d7e-4abe-a975-f22b93b67891",
   "metadata": {},
   "outputs": [
    {
     "data": {
      "text/plain": [
       "60000"
      ]
     },
     "execution_count": 3,
     "metadata": {},
     "output_type": "execute_result"
    }
   ],
   "source": [
    "len(dataset)"
   ]
  },
  {
   "cell_type": "code",
   "execution_count": 4,
   "id": "8c208c4b-2a58-4aaa-8912-1ce032b44079",
   "metadata": {},
   "outputs": [
    {
     "data": {
      "text/plain": [
       "10000"
      ]
     },
     "execution_count": 4,
     "metadata": {},
     "output_type": "execute_result"
    }
   ],
   "source": [
    "test_dataset = MNIST(root=\"data/\", train=False)\n",
    "len(test_dataset)"
   ]
  },
  {
   "cell_type": "code",
   "execution_count": 5,
   "id": "ccbf3413-900e-44a6-b454-b4cf02d29294",
   "metadata": {},
   "outputs": [],
   "source": [
    "# preview of MNIST image\n",
    "def view_img(dataset, inx):\n",
    "    image, label = dataset[inx]\n",
    "    plt.imshow(image, cmap=\"gray\")\n",
    "    print(f\"Label: {label}\")"
   ]
  },
  {
   "cell_type": "code",
   "execution_count": 6,
   "id": "cd6e80de-7cb2-4815-9c69-9960905b9095",
   "metadata": {},
   "outputs": [
    {
     "name": "stdout",
     "output_type": "stream",
     "text": [
      "Label: 5\n"
     ]
    },
    {
     "data": {
      "image/png": "[encoded data removed]",
      "text/plain": [
       "<Figure size 432x288 with 1 Axes>"
      ]
     },
     "metadata": {
      "needs_background": "light"
     },
     "output_type": "display_data"
    }
   ],
   "source": [
    "view_img(dataset, 0)"
   ]
  },
  {
   "cell_type": "code",
   "execution_count": 7,
   "id": "ce17c255-92bf-4dbc-815d-b7da0fbf7573",
   "metadata": {},
   "outputs": [
    {
     "name": "stdout",
     "output_type": "stream",
     "text": [
      "Label: 3\n"
     ]
    },
    {
     "data": {
      "image/png": "[encoded data removed]",
      "text/plain": [
       "<Figure size 432x288 with 1 Axes>"
      ]
     },
     "metadata": {
      "needs_background": "light"
     },
     "output_type": "display_data"
    }
   ],
   "source": [
    "view_img(dataset, 10)"
   ]
  },
  {
   "cell_type": "code",
   "execution_count": 8,
   "id": "a022e1b4-fcf3-402f-8c05-653c6585c4c6",
   "metadata": {},
   "outputs": [],
   "source": [
    "dataset = MNIST(\n",
    "    root=\"data/\",\n",
    "    train=True,\n",
    "    transform=transforms.ToTensor()\n",
    ")"
   ]
  },
  {
   "cell_type": "code",
   "execution_count": 9,
   "id": "e580481f-176a-45f6-87b2-4080fb3877ba",
   "metadata": {},
   "outputs": [
    {
     "name": "stdout",
     "output_type": "stream",
     "text": [
      "torch.Size([1, 28, 28]) 5\n"
     ]
    }
   ],
   "source": [
    "img_tensor, label = dataset[0]\n",
    "print(img_tensor.shape, label)"
   ]
  },
  {
   "cell_type": "code",
   "execution_count": 10,
   "id": "ff9e9404-84fa-4f3f-888e-8f34a3a46341",
   "metadata": {},
   "outputs": [
    {
     "name": "stdout",
     "output_type": "stream",
     "text": [
      "tensor([[0.0039, 0.6039, 0.9922, 0.3529, 0.0000],\n",
      "        [0.0000, 0.5451, 0.9922, 0.7451, 0.0078],\n",
      "        [0.0000, 0.0431, 0.7451, 0.9922, 0.2745],\n",
      "        [0.0000, 0.0000, 0.1373, 0.9451, 0.8824],\n",
      "        [0.0000, 0.0000, 0.0000, 0.3176, 0.9412]])\n",
      "tensor(1.) tensor(0.)\n"
     ]
    }
   ],
   "source": [
    "print(img_tensor[0, 10:15, 10:15])\n",
    "print(torch.max(img_tensor), torch.min(img_tensor))"
   ]
  },
  {
   "cell_type": "code",
   "execution_count": 11,
   "id": "61668872-ed6a-4564-a334-f8e38687baca",
   "metadata": {},
   "outputs": [
    {
     "data": {
      "text/plain": [
       "<matplotlib.image.AxesImage at 0x7efe7253b690>"
      ]
     },
     "execution_count": 11,
     "metadata": {},
     "output_type": "execute_result"
    },
    {
     "data": {
      "image/png": "[encoded data removed]",
      "text/plain": [
       "<Figure size 432x288 with 1 Axes>"
      ]
     },
     "metadata": {
      "needs_background": "light"
     },
     "output_type": "display_data"
    }
   ],
   "source": [
    "plt.imshow(img_tensor[0, 10:15, 10:15], cmap=\"gray\")"
   ]
  },
  {
   "cell_type": "code",
   "execution_count": 12,
   "id": "f164c4cd-912a-497e-9bfb-ff0b358884d4",
   "metadata": {},
   "outputs": [
    {
     "data": {
      "text/plain": [
       "<matplotlib.image.AxesImage at 0x7efe6fa90810>"
      ]
     },
     "execution_count": 12,
     "metadata": {},
     "output_type": "execute_result"
    },
    {
     "data": {
      "image/png": "[encoded data removed]",
      "text/plain": [
       "<Figure size 432x288 with 1 Axes>"
      ]
     },
     "metadata": {
      "needs_background": "light"
     },
     "output_type": "display_data"
    }
   ],
   "source": [
    "plt.imshow(img_tensor[0], cmap=\"gray\")"
   ]
  },
  {
   "cell_type": "code",
   "execution_count": null,
   "id": "9b31c69c-01ee-4bd1-9c14-3710227200fb",
   "metadata": {},
   "outputs": [],
   "source": []
  },
  {
   "cell_type": "code",
   "execution_count": 14,
   "id": "253ebd88-d755-4b6a-9188-f99a0a7dfa38",
   "metadata": {},
   "outputs": [
    {
     "data": {
      "text/plain": [
       "(50000, 10000)"
      ]
     },
     "execution_count": 14,
     "metadata": {},
     "output_type": "execute_result"
    }
   ],
   "source": [
    "train_ds, val_ds = random_split(dataset, [50000, 10000])\n",
    "len(train_ds), len(val_ds)"
   ]
  },
  {
   "cell_type": "markdown",
   "id": "88f37394",
   "metadata": {},
   "source": [
    "# Train and test dataset"
   ]
  },
  {
   "cell_type": "code",
   "execution_count": 15,
   "id": "36c88985-e12d-4866-8f95-85c3c0e77eab",
   "metadata": {},
   "outputs": [],
   "source": [
    "batch_size = 128\n",
    "\n",
    "train_loader = DataLoader(train_ds, batch_size, shuffle=True)\n",
    "val_loader = DataLoader(val_ds, batch_size)"
   ]
  },
  {
   "cell_type": "code",
   "execution_count": 16,
   "id": "d4d63e2f-cd23-4872-a873-adb858165a66",
   "metadata": {},
   "outputs": [
    {
     "data": {
      "text/plain": [
       "torch.utils.data.dataloader.DataLoader"
      ]
     },
     "execution_count": 16,
     "metadata": {},
     "output_type": "execute_result"
    }
   ],
   "source": [
    "type(train_loader)"
   ]
  },
  {
   "cell_type": "markdown",
   "id": "29ffe8ab-6396-4af8-baa0-c509ffa32409",
   "metadata": {},
   "source": [
    "# Model"
   ]
  },
  {
   "cell_type": "code",
   "execution_count": 17,
   "id": "278f4dd4-2863-47ba-80d2-3da78813d65f",
   "metadata": {},
   "outputs": [],
   "source": [
    "input_size = 28*28\n",
    "num_classes = 10"
   ]
  },
  {
   "cell_type": "code",
   "execution_count": 18,
   "id": "c11acd64-2438-4110-8678-795d117d8f08",
   "metadata": {},
   "outputs": [],
   "source": [
    "model = nn.Linear(input_size, num_classes)"
   ]
  },
  {
   "cell_type": "code",
   "execution_count": 19,
   "id": "75d6ecc5-d015-40dd-a898-c1eeb553fc64",
   "metadata": {},
   "outputs": [
    {
     "name": "stdout",
     "output_type": "stream",
     "text": [
      "torch.Size([10, 784])\n"
     ]
    }
   ],
   "source": [
    "print(model.weight.shape)"
   ]
  },
  {
   "cell_type": "code",
   "execution_count": 20,
   "id": "9f68e266-d6c9-4ddb-a6bc-979e510240bd",
   "metadata": {},
   "outputs": [
    {
     "name": "stdout",
     "output_type": "stream",
     "text": [
      "Parameter containing:\n",
      "tensor([[-0.0334, -0.0144,  0.0185,  ...,  0.0179, -0.0287, -0.0109],\n",
      "        [ 0.0022,  0.0165, -0.0268,  ...,  0.0212, -0.0244,  0.0102],\n",
      "        [ 0.0135, -0.0215, -0.0153,  ..., -0.0099, -0.0337, -0.0345],\n",
      "        ...,\n",
      "        [ 0.0095, -0.0206, -0.0139,  ...,  0.0207,  0.0286, -0.0310],\n",
      "        [-0.0192, -0.0232,  0.0201,  ..., -0.0265,  0.0206, -0.0255],\n",
      "        [ 0.0201, -0.0024,  0.0120,  ...,  0.0274,  0.0069,  0.0310]],\n",
      "       requires_grad=True)\n"
     ]
    }
   ],
   "source": [
    "print(model.weight)"
   ]
  },
  {
   "cell_type": "code",
   "execution_count": 21,
   "id": "251b4a47-d0bd-4385-bcaf-1695383de25e",
   "metadata": {},
   "outputs": [
    {
     "name": "stdout",
     "output_type": "stream",
     "text": [
      "torch.Size([10])\n"
     ]
    }
   ],
   "source": [
    "print(model.bias.shape)"
   ]
  },
  {
   "cell_type": "code",
   "execution_count": 22,
   "id": "a6d045c3-bccd-4985-9f62-1c3ff140e81a",
   "metadata": {},
   "outputs": [
    {
     "data": {
      "text/plain": [
       "Parameter containing:\n",
       "tensor([-0.0331,  0.0039,  0.0113, -0.0288, -0.0303, -0.0279, -0.0292, -0.0165,\n",
       "         0.0296, -0.0174], requires_grad=True)"
      ]
     },
     "execution_count": 22,
     "metadata": {},
     "output_type": "execute_result"
    }
   ],
   "source": [
    "model.bias"
   ]
  },
  {
   "cell_type": "code",
   "execution_count": 23,
   "id": "df92304e-cc52-4338-bd76-b3e45d887629",
   "metadata": {},
   "outputs": [
    {
     "name": "stdout",
     "output_type": "stream",
     "text": [
      "tensor([5, 9, 1, 0, 9, 3, 5, 5, 3, 4, 9, 3, 6, 1, 0, 9, 9, 1, 5, 1, 0, 4, 5, 8,\n",
      "        1, 9, 5, 1, 2, 2, 9, 2, 2, 8, 8, 8, 3, 6, 0, 3, 2, 3, 6, 9, 6, 0, 9, 8,\n",
      "        3, 0, 1, 8, 2, 8, 5, 5, 6, 4, 2, 2, 1, 8, 3, 4, 1, 0, 7, 2, 7, 0, 1, 6,\n",
      "        3, 2, 1, 1, 8, 7, 4, 5, 3, 0, 1, 0, 2, 3, 6, 5, 0, 6, 2, 8, 0, 5, 6, 2,\n",
      "        8, 3, 4, 7, 7, 4, 7, 6, 4, 7, 6, 4, 0, 4, 8, 8, 2, 1, 3, 9, 4, 8, 9, 1,\n",
      "        2, 2, 0, 6, 6, 6, 0, 2])\n",
      "torch.Size([128, 1, 28, 28])\n"
     ]
    },
    {
     "ename": "RuntimeError",
     "evalue": "mat1 and mat2 shapes cannot be multiplied (3584x28 and 784x10)",
     "output_type": "error",
     "traceback": [
      "\u001b[0;31m---------------------------------------------------------------------------\u001b[0m",
      "\u001b[0;31mRuntimeError\u001b[0m                              Traceback (most recent call last)",
      "Cell \u001b[0;32mIn[23], line 4\u001b[0m\n\u001b[1;32m      2\u001b[0m \u001b[38;5;28mprint\u001b[39m(labels)\n\u001b[1;32m      3\u001b[0m \u001b[38;5;28mprint\u001b[39m(images\u001b[38;5;241m.\u001b[39mshape)\n\u001b[0;32m----> 4\u001b[0m outputs \u001b[38;5;241m=\u001b[39m model(images)\n\u001b[1;32m      5\u001b[0m \u001b[38;5;28mprint\u001b[39m(outputs)\n\u001b[1;32m      6\u001b[0m \u001b[38;5;28;01mbreak\u001b[39;00m\n",
      "File \u001b[0;32m~/Workstation/Anaconda/anaconda/envs/torch/lib/python3.11/site-packages/torch/nn/modules/module.py:1501\u001b[0m, in \u001b[0;36mModule._call_impl\u001b[0;34m(self, *args, **kwargs)\u001b[0m\n\u001b[1;32m   1496\u001b[0m \u001b[38;5;66;03m# If we don't have any hooks, we want to skip the rest of the logic in\u001b[39;00m\n\u001b[1;32m   1497\u001b[0m \u001b[38;5;66;03m# this function, and just call forward.\u001b[39;00m\n\u001b[1;32m   1498\u001b[0m \u001b[38;5;28;01mif\u001b[39;00m \u001b[38;5;129;01mnot\u001b[39;00m (\u001b[38;5;28mself\u001b[39m\u001b[38;5;241m.\u001b[39m_backward_hooks \u001b[38;5;129;01mor\u001b[39;00m \u001b[38;5;28mself\u001b[39m\u001b[38;5;241m.\u001b[39m_backward_pre_hooks \u001b[38;5;129;01mor\u001b[39;00m \u001b[38;5;28mself\u001b[39m\u001b[38;5;241m.\u001b[39m_forward_hooks \u001b[38;5;129;01mor\u001b[39;00m \u001b[38;5;28mself\u001b[39m\u001b[38;5;241m.\u001b[39m_forward_pre_hooks\n\u001b[1;32m   1499\u001b[0m         \u001b[38;5;129;01mor\u001b[39;00m _global_backward_pre_hooks \u001b[38;5;129;01mor\u001b[39;00m _global_backward_hooks\n\u001b[1;32m   1500\u001b[0m         \u001b[38;5;129;01mor\u001b[39;00m _global_forward_hooks \u001b[38;5;129;01mor\u001b[39;00m _global_forward_pre_hooks):\n\u001b[0;32m-> 1501\u001b[0m     \u001b[38;5;28;01mreturn\u001b[39;00m forward_call(\u001b[38;5;241m*\u001b[39margs, \u001b[38;5;241m*\u001b[39m\u001b[38;5;241m*\u001b[39mkwargs)\n\u001b[1;32m   1502\u001b[0m \u001b[38;5;66;03m# Do not call functions when jit is used\u001b[39;00m\n\u001b[1;32m   1503\u001b[0m full_backward_hooks, non_full_backward_hooks \u001b[38;5;241m=\u001b[39m [], []\n",
      "File \u001b[0;32m~/Workstation/Anaconda/anaconda/envs/torch/lib/python3.11/site-packages/torch/nn/modules/linear.py:114\u001b[0m, in \u001b[0;36mLinear.forward\u001b[0;34m(self, input)\u001b[0m\n\u001b[1;32m    113\u001b[0m \u001b[38;5;28;01mdef\u001b[39;00m \u001b[38;5;21mforward\u001b[39m(\u001b[38;5;28mself\u001b[39m, \u001b[38;5;28minput\u001b[39m: Tensor) \u001b[38;5;241m-\u001b[39m\u001b[38;5;241m>\u001b[39m Tensor:\n\u001b[0;32m--> 114\u001b[0m     \u001b[38;5;28;01mreturn\u001b[39;00m F\u001b[38;5;241m.\u001b[39mlinear(\u001b[38;5;28minput\u001b[39m, \u001b[38;5;28mself\u001b[39m\u001b[38;5;241m.\u001b[39mweight, \u001b[38;5;28mself\u001b[39m\u001b[38;5;241m.\u001b[39mbias)\n",
      "\u001b[0;31mRuntimeError\u001b[0m: mat1 and mat2 shapes cannot be multiplied (3584x28 and 784x10)"
     ]
    }
   ],
   "source": [
    "for images, labels in train_loader:\n",
    "    print(labels)\n",
    "    print(images.shape)\n",
    "    outputs = model(images)\n",
    "    print(outputs)\n",
    "    break"
   ]
  },
  {
   "cell_type": "code",
   "execution_count": 24,
   "id": "80fe4d81-63d6-4c1c-b5fb-99ec216bd967",
   "metadata": {},
   "outputs": [
    {
     "data": {
      "text/plain": [
       "torch.Size([128, 1, 28, 28])"
      ]
     },
     "execution_count": 24,
     "metadata": {},
     "output_type": "execute_result"
    }
   ],
   "source": [
    "images.shape"
   ]
  },
  {
   "cell_type": "code",
   "execution_count": 25,
   "id": "7f5d3985-24c0-4936-804b-ddd3a5188b78",
   "metadata": {},
   "outputs": [
    {
     "data": {
      "text/plain": [
       "torch.Size([128, 784])"
      ]
     },
     "execution_count": 25,
     "metadata": {},
     "output_type": "execute_result"
    }
   ],
   "source": [
    "images.reshape(128, 784).shape"
   ]
  },
  {
   "cell_type": "code",
   "execution_count": 26,
   "id": "cb2a4a3c-7f98-49f1-9d87-8032fcfb5027",
   "metadata": {},
   "outputs": [],
   "source": [
    "# Class demo\n",
    "class Person:\n",
    "    def __init__(self, name, age):\n",
    "        self.name = name\n",
    "        self.age = age\n",
    "\n",
    "    def say_hell(self):\n",
    "        print(\"Hello my name is {} !\".format(self.name))"
   ]
  },
  {
   "cell_type": "markdown",
   "id": "bf8916b6-93fe-4ea4-bb57-ff6614650192",
   "metadata": {},
   "source": [
    "The code above leads to an error because our input data does not have the right shape. Our images are of the shape 1x28x28, but we need them to be vectors of size 784, i.e., we need to flatten them. We'll use the .reshape method of a tensor, which will allow us to efficiently 'view' each image as a flat vector without really creating a copy of the underlying data. To include this additional functionality within our model, we need to define a custom model by extending the nn.Module class from PyTorch."
   ]
  },
  {
   "cell_type": "code",
   "execution_count": 27,
   "id": "1aedd3dc-0950-4086-ada5-bbef7ec6a3fb",
   "metadata": {},
   "outputs": [],
   "source": [
    "class MnistModel(nn.Module):\n",
    "    def __init__(self):\n",
    "        super().__init__()\n",
    "        self.linear = nn.Linear(input_size, num_classes)\n",
    "\n",
    "    def forward(self, xb):\n",
    "        xb = xb.reshape(-1, 784)\n",
    "        out = self.linear(xb)\n",
    "        return out"
   ]
  },
  {
   "cell_type": "code",
   "execution_count": 28,
   "id": "9681266c-98d5-4a1c-a395-631ac2f5b37a",
   "metadata": {},
   "outputs": [],
   "source": [
    "model = MnistModel()"
   ]
  },
  {
   "cell_type": "code",
   "execution_count": 29,
   "id": "7c9e751d-5db7-4d96-9aa1-ba34ac171187",
   "metadata": {},
   "outputs": [
    {
     "data": {
      "text/plain": [
       "Linear(in_features=784, out_features=10, bias=True)"
      ]
     },
     "execution_count": 29,
     "metadata": {},
     "output_type": "execute_result"
    }
   ],
   "source": [
    "model.linear"
   ]
  },
  {
   "cell_type": "code",
   "execution_count": 30,
   "id": "0d4797de-a454-4c1d-af7b-edc7dc8421fd",
   "metadata": {},
   "outputs": [
    {
     "name": "stdout",
     "output_type": "stream",
     "text": [
      "torch.Size([10, 784])\n",
      "torch.Size([10])\n"
     ]
    }
   ],
   "source": [
    "print(model.linear.weight.shape)\n",
    "print(model.linear.bias.shape)"
   ]
  },
  {
   "cell_type": "code",
   "execution_count": 31,
   "id": "7ef6e072-724d-4859-9fa6-82cb2c912b7c",
   "metadata": {},
   "outputs": [
    {
     "data": {
      "text/plain": [
       "[Parameter containing:\n",
       " tensor([[ 0.0347, -0.0238, -0.0018,  ...,  0.0280,  0.0281,  0.0183],\n",
       "         [-0.0177,  0.0084,  0.0356,  ...,  0.0085, -0.0254, -0.0307],\n",
       "         [-0.0082, -0.0325,  0.0037,  ...,  0.0120, -0.0341, -0.0059],\n",
       "         ...,\n",
       "         [ 0.0008, -0.0176, -0.0336,  ...,  0.0146,  0.0090, -0.0357],\n",
       "         [ 0.0279, -0.0138, -0.0151,  ..., -0.0218,  0.0130,  0.0197],\n",
       "         [-0.0296, -0.0350, -0.0063,  ..., -0.0175,  0.0099,  0.0160]],\n",
       "        requires_grad=True),\n",
       " Parameter containing:\n",
       " tensor([-0.0257, -0.0349,  0.0016, -0.0312,  0.0211, -0.0154, -0.0261,  0.0306,\n",
       "          0.0231,  0.0063], requires_grad=True)]"
      ]
     },
     "execution_count": 31,
     "metadata": {},
     "output_type": "execute_result"
    }
   ],
   "source": [
    "list(model.parameters())"
   ]
  },
  {
   "cell_type": "code",
   "execution_count": 32,
   "id": "04d3702a-b645-4291-9487-317e4921cb07",
   "metadata": {},
   "outputs": [
    {
     "name": "stdout",
     "output_type": "stream",
     "text": [
      "torch.Size([128, 1, 28, 28])\n"
     ]
    }
   ],
   "source": [
    "for images, labels in train_loader:\n",
    "    print(images.shape)\n",
    "    outputs = model(images)\n",
    "    break"
   ]
  },
  {
   "cell_type": "code",
   "execution_count": 33,
   "id": "a3f387da-08f0-4db6-8bbb-429aecd8f76a",
   "metadata": {},
   "outputs": [
    {
     "name": "stdout",
     "output_type": "stream",
     "text": [
      "outputs.shape: torch.Size([128, 10])\n",
      "Sample outputs: tensor([[-0.1168, -0.0739,  0.1649,  0.2285, -0.1055, -0.0446, -0.0507, -0.0559,\n",
      "         -0.0774,  0.1919],\n",
      "        [ 0.1210, -0.0523,  0.0771,  0.0322, -0.2353,  0.1827, -0.0675,  0.1711,\n",
      "         -0.2037,  0.4275]])\n"
     ]
    }
   ],
   "source": [
    "print(f\"outputs.shape: {outputs.shape}\")\n",
    "print(f\"Sample outputs: {outputs[:2].data}\")"
   ]
  },
  {
   "cell_type": "code",
   "execution_count": 34,
   "id": "b01b3f72-cc5f-4b0d-9703-0dc3a39a05c5",
   "metadata": {},
   "outputs": [
    {
     "data": {
      "text/plain": [
       "tensor([[-0.1168, -0.0739,  0.1649,  0.2285, -0.1055, -0.0446, -0.0507, -0.0559,\n",
       "         -0.0774,  0.1919],\n",
       "        [ 0.1210, -0.0523,  0.0771,  0.0322, -0.2353,  0.1827, -0.0675,  0.1711,\n",
       "         -0.2037,  0.4275]], grad_fn=<SliceBackward0>)"
      ]
     },
     "execution_count": 34,
     "metadata": {},
     "output_type": "execute_result"
    }
   ],
   "source": [
    "outputs[:2]"
   ]
  },
  {
   "cell_type": "code",
   "execution_count": 35,
   "id": "2a1ceae4-6250-41d1-b0f8-dbce25da5087",
   "metadata": {},
   "outputs": [
    {
     "name": "stdout",
     "output_type": "stream",
     "text": [
      "Sample probabilities: tensor([[0.0877, 0.0916, 0.1162, 0.1239, 0.0887, 0.0943, 0.0937, 0.0932, 0.0912,\n",
      "         0.1194],\n",
      "        [0.1060, 0.0891, 0.1014, 0.0969, 0.0742, 0.1127, 0.0878, 0.1114, 0.0766,\n",
      "         0.1440]])\n",
      "Sum of one row: 1.0\n"
     ]
    }
   ],
   "source": [
    "# apply softmax for each output row (each col data point along each row)\n",
    "probs = F.softmax(outputs, dim=1)\n",
    "\n",
    "# look at the sample probabilities (row 1 and row2, sample 1 and sample 2)\n",
    "print(f\"Sample probabilities: {probs[:2].data}\")\n",
    "\n",
    "# add up the probabilities of an output row\n",
    "print(f\"Sum of one row: {torch.sum(probs[0]).item()}\")"
   ]
  },
  {
   "cell_type": "markdown",
   "id": "e89e04af-e88a-416a-9ba1-9cc8732afcd4",
   "metadata": {},
   "source": [
    "> Diff data() and item() methods on tensors\n",
    "\n",
    "`the data method is used to extract the underlying data from a tensor, while the item method is used to extract a single value as a Python scalar from a tensor that contains only one element.`"
   ]
  },
  {
   "cell_type": "code",
   "execution_count": 36,
   "id": "8cb84f24-c737-4a53-8107-95b75c4e8cdc",
   "metadata": {},
   "outputs": [
    {
     "name": "stdout",
     "output_type": "stream",
     "text": [
      "tensor([0.1239, 0.1440, 0.1245, 0.1331, 0.1286, 0.1281, 0.1242, 0.1394, 0.1212,\n",
      "        0.1285, 0.1306, 0.1341, 0.1315, 0.1295, 0.1242, 0.1534, 0.1269, 0.1211,\n",
      "        0.1436, 0.1217, 0.1519, 0.1232, 0.1389, 0.1157, 0.1283, 0.1560, 0.1292,\n",
      "        0.1414, 0.1382, 0.1523, 0.1296, 0.1398, 0.1219, 0.1343, 0.1416, 0.1203,\n",
      "        0.1599, 0.1258, 0.1337, 0.1277, 0.1210, 0.1209, 0.1412, 0.1240, 0.1193,\n",
      "        0.1415, 0.1485, 0.1416, 0.1547, 0.1429, 0.1121, 0.1441, 0.1429, 0.1121,\n",
      "        0.1467, 0.1137, 0.1278, 0.1247, 0.1266, 0.1300, 0.1292, 0.1246, 0.1411,\n",
      "        0.1181, 0.1494, 0.1361, 0.1496, 0.1423, 0.1194, 0.1427, 0.1507, 0.1951,\n",
      "        0.1449, 0.1323, 0.1240, 0.1246, 0.1352, 0.1408, 0.1214, 0.1751, 0.1277,\n",
      "        0.1276, 0.1403, 0.1286, 0.1552, 0.1247, 0.1313, 0.1284, 0.1284, 0.1136,\n",
      "        0.1279, 0.1546, 0.1397, 0.1319, 0.1344, 0.1326, 0.1446, 0.1336, 0.1274,\n",
      "        0.1660, 0.1715, 0.1171, 0.1235, 0.1377, 0.1359, 0.1730, 0.1302, 0.1342,\n",
      "        0.1176, 0.1242, 0.1414, 0.1264, 0.1444, 0.1352, 0.1196, 0.1269, 0.1922,\n",
      "        0.1102, 0.1359, 0.1351, 0.1327, 0.1555, 0.1341, 0.1256, 0.1317, 0.1140,\n",
      "        0.1402, 0.1470], grad_fn=<MaxBackward0>)\n",
      "tensor([3, 9, 9, 9, 0, 5, 2, 5, 9, 9, 9, 5, 5, 7, 3, 0, 3, 3, 5, 9, 9, 9, 0, 9,\n",
      "        5, 5, 9, 9, 5, 5, 3, 3, 9, 9, 0, 9, 9, 5, 5, 5, 0, 3, 9, 3, 7, 5, 3, 0,\n",
      "        5, 5, 8, 5, 0, 5, 3, 1, 7, 7, 5, 7, 7, 9, 9, 5, 5, 5, 9, 9, 9, 5, 0, 0,\n",
      "        5, 0, 0, 5, 9, 5, 0, 5, 5, 0, 5, 9, 9, 7, 7, 5, 2, 9, 5, 5, 5, 9, 0, 7,\n",
      "        7, 5, 9, 3, 0, 9, 9, 3, 5, 0, 9, 0, 9, 5, 5, 7, 5, 5, 0, 9, 0, 9, 0, 7,\n",
      "        9, 0, 5, 9, 5, 0, 9, 3])\n"
     ]
    }
   ],
   "source": [
    "max_probs, preds = torch.max(probs, dim=1)\n",
    "print(max_probs)\n",
    "print(preds)"
   ]
  },
  {
   "cell_type": "markdown",
   "id": "bd19451e-7daf-4628-883a-d42888eec719",
   "metadata": {},
   "source": [
    "\"torch.max\" returns each row's largest element and the corresponding index\n",
    "since the mnist contains number from 0\\~9, the corresponding index from 0~9 just equal the relative number"
   ]
  },
  {
   "cell_type": "code",
   "execution_count": 37,
   "id": "072ab0d6-58f0-4fdd-afcf-db811601e6ca",
   "metadata": {},
   "outputs": [
    {
     "data": {
      "text/plain": [
       "tensor([1, 7, 7, 2, 5, 8, 4, 7, 1, 2, 4, 7, 5, 6, 6, 2, 5, 2, 6, 9, 6, 5, 3, 1,\n",
       "        4, 0, 1, 1, 4, 0, 3, 2, 4, 7, 4, 1, 3, 8, 0, 9, 8, 5, 7, 9, 7, 9, 6, 4,\n",
       "        0, 7, 3, 3, 4, 1, 2, 1, 6, 8, 3, 6, 3, 1, 9, 6, 0, 7, 7, 9, 2, 0, 4, 5,\n",
       "        0, 2, 5, 5, 9, 8, 1, 3, 3, 3, 8, 4, 8, 5, 6, 8, 2, 4, 3, 8, 8, 9, 3, 7,\n",
       "        0, 8, 1, 6, 2, 1, 8, 6, 3, 0, 3, 0, 1, 4, 5, 6, 2, 8, 5, 4, 8, 1, 3, 9,\n",
       "        2, 3, 5, 1, 9, 5, 9, 6])"
      ]
     },
     "execution_count": 37,
     "metadata": {},
     "output_type": "execute_result"
    }
   ],
   "source": [
    "labels"
   ]
  },
  {
   "cell_type": "code",
   "execution_count": 38,
   "id": "a3526bc0-352d-4f3e-878e-e964e707221a",
   "metadata": {},
   "outputs": [
    {
     "data": {
      "text/plain": [
       "tensor([[-0.1168, -0.0739,  0.1649,  0.2285, -0.1055, -0.0446, -0.0507, -0.0559,\n",
       "         -0.0774,  0.1919],\n",
       "        [ 0.1210, -0.0523,  0.0771,  0.0322, -0.2353,  0.1827, -0.0675,  0.1711,\n",
       "         -0.2037,  0.4275]], grad_fn=<SliceBackward0>)"
      ]
     },
     "execution_count": 38,
     "metadata": {},
     "output_type": "execute_result"
    }
   ],
   "source": [
    "outputs[:2]"
   ]
  },
  {
   "cell_type": "code",
   "execution_count": 39,
   "id": "4c596231-7435-4667-a71e-5a2e04239cec",
   "metadata": {},
   "outputs": [
    {
     "data": {
      "text/plain": [
       "tensor(17)"
      ]
     },
     "execution_count": 39,
     "metadata": {},
     "output_type": "execute_result"
    }
   ],
   "source": [
    "torch.sum(preds == labels)"
   ]
  },
  {
   "cell_type": "code",
   "execution_count": 40,
   "id": "0270a8e7-2501-415d-b58c-c66f25f6573a",
   "metadata": {},
   "outputs": [],
   "source": [
    "def accuracy(outputs, labels):\n",
    "    _, preds = torch.max(outputs, dim=1)\n",
    "    return torch.tensor(torch.sum(preds == labels).item() / len(preds))"
   ]
  },
  {
   "cell_type": "code",
   "execution_count": 41,
   "id": "95aabdc3-dd81-4b1a-b590-61af4aab5b61",
   "metadata": {},
   "outputs": [
    {
     "data": {
      "text/plain": [
       "tensor(0.1328)"
      ]
     },
     "execution_count": 41,
     "metadata": {},
     "output_type": "execute_result"
    }
   ],
   "source": [
    "accuracy(outputs, labels)"
   ]
  },
  {
   "cell_type": "code",
   "execution_count": 42,
   "id": "5d6754c6-2dcb-4b67-b143-b369f0d67548",
   "metadata": {},
   "outputs": [
    {
     "data": {
      "text/plain": [
       "tensor([[0.0877, 0.0916, 0.1162,  ..., 0.0932, 0.0912, 0.1194],\n",
       "        [0.1060, 0.0891, 0.1014,  ..., 0.1114, 0.0766, 0.1440],\n",
       "        [0.1000, 0.0986, 0.0988,  ..., 0.1092, 0.0825, 0.1245],\n",
       "        ...,\n",
       "        [0.1140, 0.0882, 0.1003,  ..., 0.1034, 0.1121, 0.0978],\n",
       "        [0.0853, 0.0944, 0.0990,  ..., 0.1228, 0.0675, 0.1402],\n",
       "        [0.1031, 0.0816, 0.1000,  ..., 0.1069, 0.0754, 0.0965]],\n",
       "       grad_fn=<SoftmaxBackward0>)"
      ]
     },
     "execution_count": 42,
     "metadata": {},
     "output_type": "execute_result"
    }
   ],
   "source": [
    "probs"
   ]
  },
  {
   "cell_type": "markdown",
   "id": "9f10f1c0-c415-42e4-a930-53ac16985dad",
   "metadata": {},
   "source": [
    "cross-entropy is a continuous and differentiable function. It also provides useful feedback for incremental improvements in the model (a slightly higher probability for the correct label leads to a lower loss). These two factors make cross-entropy a better choice for the loss function."
   ]
  },
  {
   "cell_type": "code",
   "execution_count": 43,
   "id": "a001d673-577d-4d2e-b71b-05ba28796b23",
   "metadata": {},
   "outputs": [
    {
     "data": {
      "text/plain": [
       "tensor([[-0.1168, -0.0739,  0.1649,  ..., -0.0559, -0.0774,  0.1919],\n",
       "        [ 0.1210, -0.0523,  0.0771,  ...,  0.1711, -0.2037,  0.4275],\n",
       "        [ 0.0693,  0.0551,  0.0566,  ...,  0.1565, -0.1231,  0.2883],\n",
       "        ...,\n",
       "        [ 0.1074, -0.1496, -0.0204,  ...,  0.0099,  0.0905, -0.0465],\n",
       "        [-0.0753,  0.0262,  0.0737,  ...,  0.2889, -0.3087,  0.4219],\n",
       "        [ 0.0249, -0.2084, -0.0060,  ...,  0.0614, -0.2873, -0.0412]],\n",
       "       grad_fn=<AddmmBackward0>)"
      ]
     },
     "execution_count": 43,
     "metadata": {},
     "output_type": "execute_result"
    }
   ],
   "source": [
    "outputs"
   ]
  },
  {
   "cell_type": "code",
   "execution_count": 44,
   "id": "86289a83-dc5b-433c-b89f-1f4683362ece",
   "metadata": {},
   "outputs": [],
   "source": [
    "loss_fn = F.cross_entropy"
   ]
  },
  {
   "cell_type": "code",
   "execution_count": 45,
   "id": "9a84e95a-aa32-43f6-9f6c-921227cf03d4",
   "metadata": {},
   "outputs": [
    {
     "name": "stdout",
     "output_type": "stream",
     "text": [
      "tensor(2.3035, grad_fn=<NllLossBackward0>)\n"
     ]
    }
   ],
   "source": [
    "loss = loss_fn(outputs, labels)\n",
    "print(loss)"
   ]
  },
  {
   "cell_type": "markdown",
   "id": "a6480bdc-fc6a-4dc7-8633-aada38f205a1",
   "metadata": {},
   "source": [
    "# model training"
   ]
  },
  {
   "cell_type": "code",
   "execution_count": 46,
   "id": "877b6f43-d345-470d-9aa4-e2e0b9e1fab4",
   "metadata": {},
   "outputs": [],
   "source": [
    "def accuracy(outputs, labels):\n",
    "    _, preds = torch.max(outputs, dim=1)\n",
    "    return torch.tensor(torch.sum(preds == labels).item() / len(preds))"
   ]
  },
  {
   "cell_type": "code",
   "execution_count": 47,
   "id": "11a961ea-21b7-4208-8b1d-7783bff76efb",
   "metadata": {},
   "outputs": [],
   "source": [
    "class MnistModel(nn.Module):\n",
    "    def __init__(self):\n",
    "        super().__init__()\n",
    "        self.linear = nn.Linear(input_size, num_classes)\n",
    "\n",
    "    def forward(self, xb):\n",
    "        xb = xb.reshape(-1, 784)\n",
    "        out = self.linear(xb)\n",
    "        return out\n",
    "\n",
    "    def training_step(self, batch):\n",
    "        images, labels = batch\n",
    "        out = self(images)\n",
    "        loss = F.cross_entropy(out, labels)\n",
    "        return loss\n",
    "\n",
    "    def validation_step(self, batch):\n",
    "        images, labels = batch\n",
    "        out = self(images)\n",
    "        loss=F.cross_entropy(out, labels)\n",
    "        acc = accuracy(out, labels)\n",
    "        return {\"val_loss\": loss, \"val_acc\": acc}\n",
    "\n",
    "    def validation_epoch_end(self, outputs):\n",
    "        batch_losses = [x[\"val_loss\"] for x in outputs]\n",
    "        epoch_loss = torch.stack(batch_losses).mean()\n",
    "        batch_accs = [x[\"val_acc\"] for x in outputs]\n",
    "        epoch_acc = torch.stack(batch_accs).mean()\n",
    "        return {'val_loss': epoch_loss.item(), 'val_acc': epoch_acc.item()}\n",
    "\n",
    "    def epoch_end(self, epoch, result):\n",
    "        print(\"Epoch [{}], val_loss: {:.4f}, val_acc: {:.4f}\".format(epoch, result['val_loss'], result['val_acc']))\n",
    "\n",
    "model = MnistModel()"
   ]
  },
  {
   "cell_type": "code",
   "execution_count": 48,
   "id": "7605976e-86bd-4ce5-bfc6-cafcbaafe802",
   "metadata": {},
   "outputs": [],
   "source": [
    "def evaluate(model, val_loader):\n",
    "    outputs = [model.validation_step(batch) for batch in val_loader]\n",
    "    return model.validation_epoch_end(outputs)"
   ]
  },
  {
   "cell_type": "code",
   "execution_count": 49,
   "id": "dd346fdc-29e4-415f-bbcd-568811b8208a",
   "metadata": {},
   "outputs": [],
   "source": [
    "def fit(epochs, lr, model, train_loader, val_loader, opt_func=torch.optim.SGD):\n",
    "    optimizer = opt_func(model.parameters(), lr)\n",
    "    history=[]\n",
    "\n",
    "    for epoch in range(epochs):\n",
    "\n",
    "        # Training phase\n",
    "        for batch in train_loader:\n",
    "            loss = model.training_step(batch)\n",
    "            loss.backward()\n",
    "            optimizer.step()\n",
    "            optimizer.zero_grad()\n",
    "\n",
    "\n",
    "        # Validation phase\n",
    "        result = evaluate(model, val_loader)\n",
    "        model.epoch_end(epoch, result)\n",
    "        history.append(result)\n",
    "\n",
    "    return history"
   ]
  },
  {
   "cell_type": "code",
   "execution_count": 50,
   "id": "19722f41-5331-42e7-9b05-4aa50a04c2d1",
   "metadata": {},
   "outputs": [
    {
     "data": {
      "text/plain": [
       "{'val_loss': 2.329624891281128, 'val_acc': 0.08554193377494812}"
      ]
     },
     "execution_count": 50,
     "metadata": {},
     "output_type": "execute_result"
    }
   ],
   "source": [
    "# initial set of randomly initialized weights & biases\n",
    "result0 = evaluate(model, val_loader)\n",
    "result0"
   ]
  },
  {
   "cell_type": "code",
   "execution_count": 51,
   "id": "c3282543-44f3-4f49-a095-88f0437ceb5d",
   "metadata": {},
   "outputs": [
    {
     "name": "stderr",
     "output_type": "stream",
     "text": [
      "/home/loveplay1983/Workstation/Anaconda/anaconda/envs/torch/lib/python3.11/site-packages/torch/autograd/__init__.py:200: UserWarning: CUDA initialization: Unexpected error from cudaGetDeviceCount(). Did you run some cuda functions before calling NumCudaDevices() that might have already set an error? Error 804: forward compatibility was attempted on non supported HW (Triggered internally at /opt/conda/conda-bld/pytorch_1682343995622/work/c10/cuda/CUDAFunctions.cpp:109.)\n",
      "  Variable._execution_engine.run_backward(  # Calls into the C++ engine to run the backward pass\n"
     ]
    },
    {
     "name": "stdout",
     "output_type": "stream",
     "text": [
      "Epoch [0], val_loss: 1.9623, val_acc: 0.6252\n",
      "Epoch [1], val_loss: 1.6898, val_acc: 0.7297\n",
      "Epoch [2], val_loss: 1.4861, val_acc: 0.7649\n",
      "Epoch [3], val_loss: 1.3324, val_acc: 0.7838\n",
      "Epoch [4], val_loss: 1.2143, val_acc: 0.7962\n"
     ]
    }
   ],
   "source": [
    "history1 = fit(5, .001, model, train_loader, val_loader)"
   ]
  },
  {
   "cell_type": "code",
   "execution_count": 52,
   "id": "2d7701a4-6ff1-45d2-85a7-bb5514977433",
   "metadata": {},
   "outputs": [
    {
     "name": "stdout",
     "output_type": "stream",
     "text": [
      "Epoch [0], val_loss: 1.1217, val_acc: 0.8076\n",
      "Epoch [1], val_loss: 1.0475, val_acc: 0.8132\n",
      "Epoch [2], val_loss: 0.9870, val_acc: 0.8193\n",
      "Epoch [3], val_loss: 0.9366, val_acc: 0.8237\n",
      "Epoch [4], val_loss: 0.8941, val_acc: 0.8288\n"
     ]
    }
   ],
   "source": [
    "history2 = fit(5, .001, model, train_loader, val_loader)"
   ]
  },
  {
   "cell_type": "code",
   "execution_count": 53,
   "id": "7c8462b0",
   "metadata": {},
   "outputs": [
    {
     "name": "stdout",
     "output_type": "stream",
     "text": [
      "Epoch [0], val_loss: 0.8577, val_acc: 0.8315\n",
      "Epoch [1], val_loss: 0.8262, val_acc: 0.8354\n",
      "Epoch [2], val_loss: 0.7986, val_acc: 0.8387\n",
      "Epoch [3], val_loss: 0.7743, val_acc: 0.8405\n",
      "Epoch [4], val_loss: 0.7526, val_acc: 0.8434\n"
     ]
    }
   ],
   "source": [
    "history3 = fit(5, 0.001, model, train_loader, val_loader)"
   ]
  },
  {
   "cell_type": "code",
   "execution_count": 54,
   "id": "c26a1e9f",
   "metadata": {},
   "outputs": [
    {
     "name": "stdout",
     "output_type": "stream",
     "text": [
      "Epoch [0], val_loss: 0.7332, val_acc: 0.8455\n",
      "Epoch [1], val_loss: 0.7157, val_acc: 0.8476\n",
      "Epoch [2], val_loss: 0.6998, val_acc: 0.8493\n",
      "Epoch [3], val_loss: 0.6853, val_acc: 0.8508\n",
      "Epoch [4], val_loss: 0.6720, val_acc: 0.8517\n"
     ]
    }
   ],
   "source": [
    "history4 = fit(5, 0.001, model, train_loader, val_loader)"
   ]
  },
  {
   "cell_type": "code",
   "execution_count": 55,
   "id": "31c5dbbb",
   "metadata": {},
   "outputs": [
    {
     "data": {
      "text/plain": [
       "Text(0.5, 1.0, 'Accuracy vs. No. of epochs')"
      ]
     },
     "execution_count": 55,
     "metadata": {},
     "output_type": "execute_result"
    },
    {
     "data": {
      "image/png": "[encoded data removed]",
      "text/plain": [
       "<Figure size 432x288 with 1 Axes>"
      ]
     },
     "metadata": {
      "needs_background": "light"
     },
     "output_type": "display_data"
    }
   ],
   "source": [
    "history = [result0] + history1 + history2 + history3 + history4\n",
    "accuracies = [result[\"val_acc\"] for result in history]\n",
    "\n",
    "plt.plot(accuracies, \"-x\")\n",
    "plt.xlabel(\"epoch\")\n",
    "plt.ylabel(\"accuracy\")\n",
    "plt.title(\"Accuracy vs. No. of epochs\")\n"
   ]
  },
  {
   "cell_type": "markdown",
   "id": "c4698d99",
   "metadata": {},
   "source": [
    "While it works reasonably well for a simple dataset like MNIST (getting us to 85% accuracy), we need more sophisticated models that can capture non-linear relationships between image pixels and labels for complex tasks like recognizing everyday objects, animals etc."
   ]
  },
  {
   "cell_type": "markdown",
   "id": "1b554131",
   "metadata": {},
   "source": [
    "# Testing with individual images"
   ]
  },
  {
   "cell_type": "code",
   "execution_count": 57,
   "id": "1158bc12",
   "metadata": {},
   "outputs": [],
   "source": [
    "test_dataset  = MNIST(\n",
    "    root=\"data/\",\n",
    "    train=False,\n",
    "    transform=transforms.ToTensor()\n",
    ")"
   ]
  },
  {
   "cell_type": "code",
   "execution_count": 59,
   "id": "46f0f845",
   "metadata": {},
   "outputs": [
    {
     "data": {
      "text/plain": [
       "10000"
      ]
     },
     "execution_count": 59,
     "metadata": {},
     "output_type": "execute_result"
    }
   ],
   "source": [
    "len(test_dataset)"
   ]
  },
  {
   "cell_type": "code",
   "execution_count": 66,
   "id": "02c8cb50",
   "metadata": {},
   "outputs": [],
   "source": [
    "def predict_img(img, model):\n",
    "    \"\"\"\n",
    "    predict individual image with the trained model (simple lienar model)\n",
    "    \"\"\"\n",
    "    xb = img.unsqueeze(0)\n",
    "    yb = model(xb)\n",
    "    _, preds = torch.max(yb, dim=1)\n",
    "    print(preds.shape)\n",
    "    return preds[0].item()"
   ]
  },
  {
   "cell_type": "code",
   "execution_count": 65,
   "id": "c8903ed2",
   "metadata": {},
   "outputs": [
    {
     "data": {
      "text/plain": [
       "torch.Size([1, 1, 28, 28])"
      ]
     },
     "execution_count": 65,
     "metadata": {},
     "output_type": "execute_result"
    }
   ],
   "source": [
    "img.unsqueeze(0).shape"
   ]
  },
  {
   "cell_type": "code",
   "execution_count": 70,
   "id": "d8fae6cb",
   "metadata": {},
   "outputs": [],
   "source": [
    "def view_image(inx):\n",
    "    \"\"\"\n",
    "    view mnist data by image index\n",
    "    \"\"\"\n",
    "    \n",
    "    img, label = test_dataset[inx]\n",
    "    plt.imshow(img[0], cmap=\"gray\")\n",
    "    plt.show()\n",
    "    print(f\"Image shape => {img.shape}\")\n",
    "    print(f\"Image label => {label}\")"
   ]
  },
  {
   "cell_type": "code",
   "execution_count": 71,
   "id": "de14750f",
   "metadata": {},
   "outputs": [
    {
     "data": {
      "image/png": "[encoded data removed]",
      "text/plain": [
       "<Figure size 432x288 with 1 Axes>"
      ]
     },
     "metadata": {
      "needs_background": "light"
     },
     "output_type": "display_data"
    },
    {
     "name": "stdout",
     "output_type": "stream",
     "text": [
      "Image shape => torch.Size([1, 28, 28])\n",
      "Image label => 9\n"
     ]
    },
    {
     "data": {
      "image/png": "[encoded data removed]",
      "text/plain": [
       "<Figure size 432x288 with 1 Axes>"
      ]
     },
     "metadata": {
      "needs_background": "light"
     },
     "output_type": "display_data"
    },
    {
     "name": "stdout",
     "output_type": "stream",
     "text": [
      "Image shape => torch.Size([1, 28, 28])\n",
      "Image label => 7\n"
     ]
    },
    {
     "data": {
      "image/png": "[encoded data removed]",
      "text/plain": [
       "<Figure size 432x288 with 1 Axes>"
      ]
     },
     "metadata": {
      "needs_background": "light"
     },
     "output_type": "display_data"
    },
    {
     "name": "stdout",
     "output_type": "stream",
     "text": [
      "Image shape => torch.Size([1, 28, 28])\n",
      "Image label => 9\n"
     ]
    },
    {
     "data": {
      "image/png": "[encoded data removed]",
      "text/plain": [
       "<Figure size 432x288 with 1 Axes>"
      ]
     },
     "metadata": {
      "needs_background": "light"
     },
     "output_type": "display_data"
    },
    {
     "name": "stdout",
     "output_type": "stream",
     "text": [
      "Image shape => torch.Size([1, 28, 28])\n",
      "Image label => 2\n"
     ]
    }
   ],
   "source": [
    "for each in [7, 0, 193, 1839, ]:\n",
    "    view_image(each)"
   ]
  },
  {
   "cell_type": "code",
   "execution_count": 72,
   "id": "862b8951",
   "metadata": {},
   "outputs": [
    {
     "data": {
      "text/plain": [
       "{'val_loss': 0.6405816078186035, 'val_acc': 0.861523449420929}"
      ]
     },
     "execution_count": 72,
     "metadata": {},
     "output_type": "execute_result"
    }
   ],
   "source": [
    "test_loader = DataLoader(test_dataset, batch_size=256)\n",
    "result = evaluate(model, test_loader)\n",
    "result"
   ]
  },
  {
   "cell_type": "code",
   "execution_count": null,
   "id": "130c7eea",
   "metadata": {},
   "outputs": [],
   "source": []
  },
  {
   "cell_type": "markdown",
   "id": "d743b6e0",
   "metadata": {},
   "source": [
    "# Saving model and loading model"
   ]
  },
  {
   "cell_type": "code",
   "execution_count": 73,
   "id": "8a427be4",
   "metadata": {},
   "outputs": [],
   "source": [
    "torch.save(model.state_dict(), \"mnist-logistic.pth\")"
   ]
  },
  {
   "cell_type": "code",
   "execution_count": 75,
   "id": "181b25db",
   "metadata": {},
   "outputs": [],
   "source": [
    "model_stat = model.state_dict()"
   ]
  },
  {
   "cell_type": "code",
   "execution_count": 79,
   "id": "38b8401c",
   "metadata": {},
   "outputs": [
    {
     "data": {
      "text/plain": [
       "2"
      ]
     },
     "execution_count": 79,
     "metadata": {},
     "output_type": "execute_result"
    }
   ],
   "source": [
    "len(model_stat)"
   ]
  },
  {
   "cell_type": "code",
   "execution_count": 83,
   "id": "82b2f59f",
   "metadata": {},
   "outputs": [
    {
     "name": "stdout",
     "output_type": "stream",
     "text": [
      "{'val_loss': 2.3266561031341553, 'val_acc': 0.08359374850988388}\n",
      "OrderedDict([('linear.weight', tensor([[-0.0043, -0.0219, -0.0140,  ..., -0.0202, -0.0267, -0.0289],\n",
      "        [-0.0282, -0.0054, -0.0062,  ...,  0.0075,  0.0192,  0.0068],\n",
      "        [-0.0306, -0.0187, -0.0222,  ..., -0.0092, -0.0006,  0.0210],\n",
      "        ...,\n",
      "        [ 0.0122,  0.0320,  0.0187,  ...,  0.0228, -0.0022, -0.0093],\n",
      "        [ 0.0035, -0.0275,  0.0156,  ..., -0.0016,  0.0152, -0.0069],\n",
      "        [ 0.0007,  0.0138,  0.0155,  ..., -0.0315,  0.0297, -0.0195]])), ('linear.bias', tensor([ 0.0080, -0.0077,  0.0222, -0.0119, -0.0336, -0.0310, -0.0355, -0.0199,\n",
      "        -0.0184,  0.0334]))])\n"
     ]
    }
   ],
   "source": [
    "model2 = MnistModel()\n",
    "print(evaluate(model2, test_loader))\n",
    "print(model2.state_dict())"
   ]
  },
  {
   "cell_type": "code",
   "execution_count": 84,
   "id": "cf2980f3",
   "metadata": {},
   "outputs": [
    {
     "name": "stdout",
     "output_type": "stream",
     "text": [
      "{'val_loss': 0.6405816078186035, 'val_acc': 0.861523449420929}\n",
      "OrderedDict([('linear.weight', tensor([[-0.0234,  0.0341, -0.0120,  ...,  0.0340,  0.0162, -0.0291],\n",
      "        [ 0.0166,  0.0249,  0.0118,  ..., -0.0097,  0.0170,  0.0053],\n",
      "        [-0.0331, -0.0061, -0.0213,  ...,  0.0323, -0.0225,  0.0240],\n",
      "        ...,\n",
      "        [ 0.0324, -0.0305, -0.0101,  ..., -0.0063, -0.0245,  0.0289],\n",
      "        [-0.0037,  0.0122,  0.0344,  ..., -0.0300, -0.0142, -0.0288],\n",
      "        [-0.0101, -0.0068,  0.0284,  ...,  0.0263, -0.0224,  0.0225]])), ('linear.bias', tensor([-0.0291,  0.1293, -0.0267, -0.0470,  0.0095,  0.0130, -0.0084,  0.0511,\n",
      "        -0.1089, -0.0248]))])\n"
     ]
    }
   ],
   "source": [
    "model2.load_state_dict(torch.load(\"./mnist-logistic.pth\"))\n",
    "\n",
    "print(evaluate(model2, test_loader))\n",
    "print(model2.state_dict())"
   ]
  },
  {
   "cell_type": "code",
   "execution_count": null,
   "id": "cbcc9b0f",
   "metadata": {},
   "outputs": [],
   "source": []
  }
 ],
 "metadata": {
  "kernelspec": {
   "display_name": "Python 3 (ipykernel)",
   "language": "python",
   "name": "python3"
  },
  "language_info": {
   "codemirror_mode": {
    "name": "ipython",
    "version": 3
   },
   "file_extension": ".py",
   "mimetype": "text/x-python",
   "name": "python",
   "nbconvert_exporter": "python",
   "pygments_lexer": "ipython3",
   "version": "3.11.3"
  }
 },
 "nbformat": 4,
 "nbformat_minor": 5
}
