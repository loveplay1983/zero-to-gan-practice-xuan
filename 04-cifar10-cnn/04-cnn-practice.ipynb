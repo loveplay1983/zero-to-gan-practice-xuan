{
 "cells": [
  {
   "cell_type": "code",
   "execution_count": 1,
   "id": "ca083050-9858-46c1-b7aa-da531b07a65b",
   "metadata": {},
   "outputs": [],
   "source": [
    "import os\n",
    "import torch\n",
    "import torchvision\n",
    "import tarfile\n",
    "from torchvision.datasets.utils import download_url\n",
    "from torch.utils.data import random_split"
   ]
  },
  {
   "cell_type": "markdown",
   "id": "705d2ac6-ab30-4334-891f-fc4a6386d5f5",
   "metadata": {},
   "source": [
    "# Explore CIFAR10"
   ]
  },
  {
   "cell_type": "code",
   "execution_count": 2,
   "id": "838260b6-c6ad-4c23-b4a2-c2914f5f95a3",
   "metadata": {},
   "outputs": [
    {
     "name": "stdout",
     "output_type": "stream",
     "text": [
      "Downloading https://s3.amazonaws.com/fast-ai-imageclas/cifar10.tgz to ./cifar10.tgz\n"
     ]
    },
    {
     "name": "stderr",
     "output_type": "stream",
     "text": [
      "100%|██████████████████████████████| 135107811/135107811 [01:08<00:00, 1984456.87it/s]\n"
     ]
    }
   ],
   "source": [
    "# Dowload dataset\n",
    "dataset_url = \"https://s3.amazonaws.com/fast-ai-imageclas/cifar10.tgz\"\n",
    "download_url(dataset_url, \".\")"
   ]
  },
  {
   "cell_type": "code",
   "execution_count": null,
   "id": "43308f75-3743-4ed7-a5a5-5ccabcbbffff",
   "metadata": {},
   "outputs": [],
   "source": []
  }
 ],
 "metadata": {
  "kernelspec": {
   "display_name": "Python 3 (ipykernel)",
   "language": "python",
   "name": "python3"
  },
  "language_info": {
   "codemirror_mode": {
    "name": "ipython",
    "version": 3
   },
   "file_extension": ".py",
   "mimetype": "text/x-python",
   "name": "python",
   "nbconvert_exporter": "python",
   "pygments_lexer": "ipython3",
   "version": "3.9.18"
  }
 },
 "nbformat": 4,
 "nbformat_minor": 5
}
